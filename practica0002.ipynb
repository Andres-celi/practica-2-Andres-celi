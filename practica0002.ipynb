{
 "cells": [
  {
   "cell_type": "code",
   "execution_count": 1,
   "id": "28845814",
   "metadata": {},
   "outputs": [],
   "source": [
    "# Cargar librerías\n",
    "import pandas as pd\n",
    "import numpy as np\n",
    "from sklearn.linear_model import LogisticRegression\n",
    "from sklearn.preprocessing import StandardScaler\n",
    "from sklearn.pipeline import Pipeline\n",
    "from sklearn.model_selection import train_test_split\n",
    "from sklearn.metrics import accuracy_score, precision_score\n",
    "import mlflow\n",
    "import mlflow.sklearn\n"
   ]
  },
  {
   "cell_type": "code",
   "execution_count": 2,
   "id": "da619e05",
   "metadata": {},
   "outputs": [],
   "source": [
    "# Leer datos\n",
    "df = pd.read_csv(\"data/diabetes.csv\")\n",
    "\n"
   ]
  },
  {
   "cell_type": "code",
   "execution_count": 3,
   "id": "f287d4ff-786f-400c-acbd-06af393ea280",
   "metadata": {},
   "outputs": [
    {
     "data": {
      "text/plain": [
       "Pregnancies                 111\n",
       "Glucose                       5\n",
       "BloodPressure                35\n",
       "SkinThickness               227\n",
       "Insulin                     374\n",
       "BMI                          11\n",
       "DiabetesPedigreeFunction      0\n",
       "Age                           0\n",
       "Outcome                     500\n",
       "dtype: int64"
      ]
     },
     "execution_count": 3,
     "metadata": {},
     "output_type": "execute_result"
    }
   ],
   "source": [
    "# identifica las columnas que tiene valores 0\n",
    "(df==0).sum()"
   ]
  },
  {
   "cell_type": "code",
   "execution_count": 4,
   "id": "9d063202-3384-456c-8bbf-924911f25144",
   "metadata": {},
   "outputs": [
    {
     "name": "stdout",
     "output_type": "stream",
     "text": [
      "   Pregnancies  Glucose  BloodPressure  SkinThickness  Insulin   BMI  \\\n",
      "0            6    148.0           72.0           35.0      NaN  33.6   \n",
      "1            1     85.0           66.0           29.0      NaN  26.6   \n",
      "2            8    183.0           64.0            NaN      NaN  23.3   \n",
      "3            1     89.0           66.0           23.0     94.0  28.1   \n",
      "4            0    137.0           40.0           35.0    168.0  43.1   \n",
      "\n",
      "   DiabetesPedigreeFunction  Age  Outcome  \n",
      "0                     0.627   50        1  \n",
      "1                     0.351   31        0  \n",
      "2                     0.672   32        1  \n",
      "3                     0.167   21        0  \n",
      "4                     2.288   33        1  \n",
      "99.0\n",
      "70.0\n",
      "32.0\n",
      "105.0\n",
      "     Pregnancies  Glucose  BloodPressure  SkinThickness  Insulin   BMI  \\\n",
      "0              6    148.0           72.0           35.0    105.0  33.6   \n",
      "1              1     85.0           66.0           29.0    105.0  26.6   \n",
      "2              8    183.0           64.0           32.0    105.0  23.3   \n",
      "3              1     89.0           66.0           23.0     94.0  28.1   \n",
      "4              0    137.0           40.0           35.0    168.0  43.1   \n",
      "..           ...      ...            ...            ...      ...   ...   \n",
      "763           10    101.0           76.0           48.0    180.0  32.9   \n",
      "764            2    122.0           70.0           27.0    105.0  36.8   \n",
      "765            5    121.0           72.0           23.0    112.0  26.2   \n",
      "766            1    126.0           60.0           32.0    105.0  30.1   \n",
      "767            1     93.0           70.0           31.0    105.0  30.4   \n",
      "\n",
      "     DiabetesPedigreeFunction  Age  Outcome  \n",
      "0                       0.627   50        1  \n",
      "1                       0.351   31        0  \n",
      "2                       0.672   32        1  \n",
      "3                       0.167   21        0  \n",
      "4                       2.288   33        1  \n",
      "..                        ...  ...      ...  \n",
      "763                     0.171   63        0  \n",
      "764                     0.340   27        0  \n",
      "765                     0.245   30        0  \n",
      "766                     0.349   47        1  \n",
      "767                     0.315   23        0  \n",
      "\n",
      "[768 rows x 9 columns]\n"
     ]
    }
   ],
   "source": [
    "# Reemplazar ceros en columnas específicas por NaN\n",
    "cols_to_clean = ['Glucose', 'BloodPressure', 'SkinThickness', 'Insulin']\n",
    "# No se consideran algunas, por ejemplo Pregnancies (por qué si es posible que se tengan cero embarazos)\n",
    "\n",
    "# Reemplazar ceros por NaN para poder tratarlos como datos faltantes\n",
    "for col in cols_to_clean:\n",
    "    df[col] = df[col].replace(0, np.nan)\n",
    "\n",
    "print(df.head())\n",
    "\n",
    "# Reemplazar NaN con la moda (valor más frecuente) de cada columna\n",
    "for col in cols_to_clean:\n",
    "    moda = df[col].mode()[0]\n",
    "    print(moda)\n",
    "    df[col] = df[col].fillna(moda)\n",
    "\n",
    "print(df)"
   ]
  },
  {
   "cell_type": "code",
   "execution_count": 5,
   "id": "4be9af71",
   "metadata": {},
   "outputs": [],
   "source": [
    "# Separar datos\n",
    "X = df.drop(\"Outcome\", axis=1)\n",
    "y = df[\"Outcome\"]\n",
    "\n",
    "X_train, X_test, y_train, y_test = train_test_split(X, y, test_size=0.2, random_state=42)\n"
   ]
  },
  {
   "cell_type": "code",
   "execution_count": 6,
   "id": "ee6500fe-a589-4021-a1b0-68d0f1f742c7",
   "metadata": {},
   "outputs": [
    {
     "data": {
      "text/plain": [
       "<Experiment: artifact_location='mlflow-artifacts:/562461387781550669', creation_time=1747442616555, experiment_id='562461387781550669', last_update_time=1747442616555, lifecycle_stage='active', name='ClasificadorDemoDiabetes', tags={}>"
      ]
     },
     "execution_count": 6,
     "metadata": {},
     "output_type": "execute_result"
    }
   ],
   "source": [
    "# agregar el traking uri de mlflow\n",
    "mlflow.set_tracking_uri(\"http://localhost:9090\")\n",
    "\n",
    "# agregar set_experiment con nombre: ClasificadorDemoDiabetes\n",
    "mlflow.set_experiment(experiment_name=\"ClasificadorDemoDiabetes\")\n"
   ]
  },
  {
   "cell_type": "code",
   "execution_count": 7,
   "id": "a11a2b3c-287e-48b2-bbf8-ea55b5d15b87",
   "metadata": {},
   "outputs": [
    {
     "name": "stdout",
     "output_type": "stream",
     "text": [
      "        run_id  logreg_C  logreg_max_iter     solver penalty\n",
      "0  practica_01      0.01              400  liblinear      l2\n",
      "1  practica_02      1.12              300      lbfgs      l2\n",
      "2  practica_03      2.23              500  liblinear      l2\n",
      "3  practica_04      3.34              200  liblinear      l2\n",
      "4  practica_05      4.45              300  liblinear      l2\n",
      "(0, run_id             practica_01\n",
      "logreg_C                  0.01\n",
      "logreg_max_iter            400\n",
      "solver               liblinear\n",
      "penalty                     l2\n",
      "Name: 0, dtype: object)\n",
      "(1, run_id             practica_02\n",
      "logreg_C                  1.12\n",
      "logreg_max_iter            300\n",
      "solver                   lbfgs\n",
      "penalty                     l2\n",
      "Name: 1, dtype: object)\n",
      "(2, run_id             practica_03\n",
      "logreg_C                  2.23\n",
      "logreg_max_iter            500\n",
      "solver               liblinear\n",
      "penalty                     l2\n",
      "Name: 2, dtype: object)\n",
      "(3, run_id             practica_04\n",
      "logreg_C                  3.34\n",
      "logreg_max_iter            200\n",
      "solver               liblinear\n",
      "penalty                     l2\n",
      "Name: 3, dtype: object)\n",
      "(4, run_id             practica_05\n",
      "logreg_C                  4.45\n",
      "logreg_max_iter            300\n",
      "solver               liblinear\n",
      "penalty                     l2\n",
      "Name: 4, dtype: object)\n",
      "(5, run_id             practica_06\n",
      "logreg_C                  5.56\n",
      "logreg_max_iter            500\n",
      "solver                   lbfgs\n",
      "penalty                     l2\n",
      "Name: 5, dtype: object)\n",
      "(6, run_id             practica_07\n",
      "logreg_C                  6.67\n",
      "logreg_max_iter            300\n",
      "solver                   lbfgs\n",
      "penalty                     l2\n",
      "Name: 6, dtype: object)\n",
      "(7, run_id             practica_08\n",
      "logreg_C                  7.78\n",
      "logreg_max_iter            500\n",
      "solver                   lbfgs\n",
      "penalty                     l2\n",
      "Name: 7, dtype: object)\n",
      "(8, run_id             practica_09\n",
      "logreg_C                  8.89\n",
      "logreg_max_iter            400\n",
      "solver                   lbfgs\n",
      "penalty                     l2\n",
      "Name: 8, dtype: object)\n",
      "(9, run_id             practica_10\n",
      "logreg_C                  10.0\n",
      "logreg_max_iter            200\n",
      "solver                   lbfgs\n",
      "penalty                     l2\n",
      "Name: 9, dtype: object)\n"
     ]
    }
   ],
   "source": [
    "param_variaciones = pd.read_csv(\"data/logreg_variaciones_educativas.csv\")\n",
    "print(param_variaciones.head())\n",
    "\n",
    "for row in param_variaciones.iterrows():\n",
    "    print(row)"
   ]
  },
  {
   "cell_type": "code",
   "execution_count": 8,
   "id": "c5784cd6",
   "metadata": {},
   "outputs": [
    {
     "name": "stdout",
     "output_type": "stream",
     "text": [
      "0.01\n",
      " Modelo registrado en MLflow\n",
      "Accuracy: 0.7208 | Precision: 0.6034\n",
      "1.12\n",
      " Modelo registrado en MLflow\n",
      "Accuracy: 0.7532 | Precision: 0.6667\n",
      "2.23\n",
      " Modelo registrado en MLflow\n",
      "Accuracy: 0.7532 | Precision: 0.6667\n",
      "3.34\n",
      " Modelo registrado en MLflow\n",
      "Accuracy: 0.7532 | Precision: 0.6667\n",
      "4.45\n",
      " Modelo registrado en MLflow\n",
      "Accuracy: 0.7532 | Precision: 0.6667\n",
      "5.5600000000000005\n",
      " Modelo registrado en MLflow\n",
      "Accuracy: 0.7532 | Precision: 0.6667\n",
      "6.67\n",
      " Modelo registrado en MLflow\n",
      "Accuracy: 0.7532 | Precision: 0.6667\n",
      "7.78\n",
      " Modelo registrado en MLflow\n",
      "Accuracy: 0.7532 | Precision: 0.6667\n",
      "8.89\n",
      " Modelo registrado en MLflow\n",
      "Accuracy: 0.7532 | Precision: 0.6667\n",
      "10.0\n",
      " Modelo registrado en MLflow\n",
      "Accuracy: 0.7532 | Precision: 0.6667\n"
     ]
    }
   ],
   "source": [
    "# Entrenamiento y registro con MLflow\n",
    "C = 1.0\n",
    "max_iter = 1000\n",
    "# usar los parámetros del archivo logreg_variaciones_educativas.csv\n",
    "# para los parámtros C, max_iter, solver y penalty de LogisticRegresion\n",
    "# se debe genear un run por cada fila del archivo, usando sus parámetros\n",
    "# Analizar que usar\n",
    "param_variaciones = pd.read_csv(\"data/logreg_variaciones_educativas.csv\")\n",
    "#print(param_variaciones.head())\n",
    "\n",
    "for i,row in param_variaciones.iterrows():\n",
    "    print(row['logreg_C'])\n",
    "\n",
    "    # agregar la línea del start_run\n",
    "    with mlflow.start_run(run_name=f\"ClasificadorDemoDiabetes_{row['run_id']}\"):\n",
    "        # El pipeline usar StandarScaler para que todos los valore numéricos estén en la misma escala\n",
    "        # no cambiar dicha línea\n",
    "        # LogisticRegresion deben variar sus parámetros en cada iteración.\n",
    "        pipeline = Pipeline([\n",
    "                (\"scaler\", StandardScaler()),\n",
    "                (\"clf\", LogisticRegression(\n",
    "                    C=row['logreg_C'],\n",
    "                    max_iter=row['logreg_max_iter'],\n",
    "                    solver=row['solver'],\n",
    "                    penalty=row['penalty']\n",
    "                ))\n",
    "            ])\n",
    "        \n",
    "        # Entrenar y evaluar\n",
    "        pipeline.fit(X_train, y_train)\n",
    "        y_pred = pipeline.predict(X_test)\n",
    "    \n",
    "        acc = accuracy_score(y_test, y_pred)\n",
    "        prec = precision_score(y_test, y_pred)\n",
    "    \n",
    "        # recuerde que log_param y log_metric debe ir guardando los valores\n",
    "        # dependiendo del run correspondiente de cada fila\n",
    "        mlflow.log_param(\"logreg_C\", C)\n",
    "        mlflow.log_param(\"logreg_max_iter\", max_iter)\n",
    "        mlflow.log_param(\"solver\", \"liblinear\")\n",
    "        mlflow.log_param(\"penalty\", \"l2\")\n",
    "        \n",
    "        mlflow.log_metric(\"accuracy\", acc)\n",
    "        mlflow.log_metric(\"precision\", prec)\n",
    "        \n",
    "        # Guardar el pipeline completo\n",
    "        mlflow.sklearn.log_model(pipeline, \"modelo_pipeline\")\n",
    "        \n",
    "        print(\" Modelo registrado en MLflow\")\n",
    "        print(f\"Accuracy: {acc:.4f} | Precision: {prec:.4f}\")\n"
   ]
  },
  {
   "cell_type": "code",
   "execution_count": null,
   "id": "348eb4c4-19c6-464b-864e-7c3483763940",
   "metadata": {},
   "outputs": [],
   "source": []
  }
 ],
 "metadata": {
  "kernelspec": {
   "display_name": "Python 3 (ipykernel)",
   "language": "python",
   "name": "python3"
  },
  "language_info": {
   "codemirror_mode": {
    "name": "ipython",
    "version": 3
   },
   "file_extension": ".py",
   "mimetype": "text/x-python",
   "name": "python",
   "nbconvert_exporter": "python",
   "pygments_lexer": "ipython3",
   "version": "3.10.0"
  }
 },
 "nbformat": 4,
 "nbformat_minor": 5
}
